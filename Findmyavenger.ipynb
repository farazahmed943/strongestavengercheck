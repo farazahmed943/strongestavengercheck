{
  "nbformat": 4,
  "nbformat_minor": 0,
  "metadata": {
    "colab": {
      "name": "Findmyavenger.ipynb",
      "provenance": [],
      "authorship_tag": "ABX9TyNWk0He1FNL4ViEnLGOzhO7",
      "include_colab_link": true
    },
    "kernelspec": {
      "name": "python3",
      "display_name": "Python 3"
    },
    "language_info": {
      "name": "python"
    }
  },
  "cells": [
    {
      "cell_type": "markdown",
      "metadata": {
        "id": "view-in-github",
        "colab_type": "text"
      },
      "source": [
        "<a href=\"https://colab.research.google.com/github/farazahmed943/strongestavengercheck/blob/main/Findmyavenger.ipynb\" target=\"_parent\"><img src=\"https://colab.research.google.com/assets/colab-badge.svg\" alt=\"Open In Colab\"/></a>"
      ]
    },
    {
      "cell_type": "code",
      "execution_count": null,
      "metadata": {
        "id": "hzV5gW9YTASm"
      },
      "outputs": [],
      "source": [
        "from fastai2.vision.all import *\n",
        "from fastai2.vision.widgets import *"
      ]
    },
    {
      "cell_type": "markdown",
      "source": [
        "# Find if your avengers strongest or not?"
      ],
      "metadata": {
        "id": "LsYxCzuRTJEF"
      }
    },
    {
      "cell_type": "code",
      "source": [
        "path = Path()\n",
        "learn_inf = load_learner(path/'export.pkl')\n",
        "btn_upload = widgets.FileUpload()\n",
        "out_pl = widgets.Output()\n",
        "lbl_pred = widgets.Label()"
      ],
      "metadata": {
        "id": "UPDtKNc-TVLr"
      },
      "execution_count": null,
      "outputs": []
    },
    {
      "cell_type": "code",
      "source": [
        "def on_click_classify(change):\n",
        "    img = PILImage.create(btn_upload.data[-1])\n",
        "    out_pl.clear_output()\n",
        "    with out_pl: display(img.to_thumb(128,128))\n",
        "    pred,pred_idx,probs = learn_inf.predict(img)\n",
        "    if pred == 'Thor':\n",
        "      lbl_pred.value = f'Prediction: {pred}; Probability: {probs[pred_idx]:.04f}'\n",
        "    else:\n",
        "      lbl_pred.value = f'Hell No! you think {pred} is the strongest avenger!? u r out of ur mind noobmaster69!!!'\n",
        "\n",
        "\n"
      ],
      "metadata": {
        "id": "apO-Qc9SVByY"
      },
      "execution_count": null,
      "outputs": []
    },
    {
      "cell_type": "code",
      "source": [
        "btn_run.on_click(on_click_classify)"
      ],
      "metadata": {
        "id": "qCMV4zfxVJYe"
      },
      "execution_count": null,
      "outputs": []
    },
    {
      "cell_type": "code",
      "source": [
        "VBox([widgets.Label('Select your hero'),\n",
        "      btn_upload,btn_run,out_pl,lbl_pred])"
      ],
      "metadata": {
        "id": "_x5tFdeGVM23"
      },
      "execution_count": null,
      "outputs": []
    }
  ]
}